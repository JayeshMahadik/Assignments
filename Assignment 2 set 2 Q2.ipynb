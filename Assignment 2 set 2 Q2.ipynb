{
  "nbformat": 4,
  "nbformat_minor": 0,
  "metadata": {
    "colab": {
      "name": "Untitled32.ipynb",
      "provenance": []
    },
    "kernelspec": {
      "name": "python3",
      "display_name": "Python 3"
    },
    "language_info": {
      "name": "python"
    }
  },
  "cells": [
    {
      "cell_type": "code",
      "execution_count": 1,
      "metadata": {
        "id": "j-m7Y6JpY3bb"
      },
      "outputs": [],
      "source": [
        "from scipy import stats\n",
        "from scipy.stats import norm"
      ]
    },
    {
      "cell_type": "code",
      "source": [
        "#A] To find if more employees at the processing center are older than 44 than between 38 and 44"
      ],
      "metadata": {
        "id": "LMKMMfS7ZDMo"
      },
      "execution_count": 2,
      "outputs": []
    },
    {
      "cell_type": "code",
      "source": [
        "#number of employees older than 44 years of age p(>44)=1-stats.norm.cdf(x,loc=mean,scale=std. deviation)\n",
        "x=1-stats.norm.cdf(44,loc=38,scale=6)\n",
        "x"
      ],
      "metadata": {
        "colab": {
          "base_uri": "https://localhost:8080/"
        },
        "id": "CAjKFUfSZgXU",
        "outputId": "8b1d620f-2e66-42e4-a4ff-703b920878d1"
      },
      "execution_count": 5,
      "outputs": [
        {
          "output_type": "execute_result",
          "data": {
            "text/plain": [
              "0.15865525393145707"
            ]
          },
          "metadata": {},
          "execution_count": 5
        }
      ]
    },
    {
      "cell_type": "code",
      "source": [
        "#number of employess > 44 = p(>44)*total no. of employees\n",
        "x*400"
      ],
      "metadata": {
        "colab": {
          "base_uri": "https://localhost:8080/"
        },
        "id": "S_u1GebjaVp4",
        "outputId": "ade1c66e-44a8-4971-b4c7-997db612501c"
      },
      "execution_count": 6,
      "outputs": [
        {
          "output_type": "execute_result",
          "data": {
            "text/plain": [
              "63.46210157258283"
            ]
          },
          "metadata": {},
          "execution_count": 6
        }
      ]
    },
    {
      "cell_type": "code",
      "source": [
        "#number of employees between 38 to 44 years of age p(38<X<44)\n",
        "y=stats.norm.cdf(44,38,6)-stats.norm.cdf(38,38,6)\n",
        "y"
      ],
      "metadata": {
        "colab": {
          "base_uri": "https://localhost:8080/"
        },
        "id": "fvXb0dCraspK",
        "outputId": "332af0b5-7304-4501-a3b4-3dcb8d4bb578"
      },
      "execution_count": 7,
      "outputs": [
        {
          "output_type": "execute_result",
          "data": {
            "text/plain": [
              "0.3413447460685429"
            ]
          },
          "metadata": {},
          "execution_count": 7
        }
      ]
    },
    {
      "cell_type": "code",
      "source": [
        "#number of employees 38< between < 44 = p(38<y<44)*total no.\n",
        "y*400"
      ],
      "metadata": {
        "colab": {
          "base_uri": "https://localhost:8080/"
        },
        "id": "SrzcdP7kbfgU",
        "outputId": "5f5d039d-bb0c-4775-d16e-3f73a3b3dd26"
      },
      "execution_count": 8,
      "outputs": [
        {
          "output_type": "execute_result",
          "data": {
            "text/plain": [
              "136.53789842741716"
            ]
          },
          "metadata": {},
          "execution_count": 8
        }
      ]
    },
    {
      "cell_type": "code",
      "source": [
        "#number of employees attending trianing program under 30 age P < 30\n",
        "400*stats.norm.cdf(30,38,6)"
      ],
      "metadata": {
        "colab": {
          "base_uri": "https://localhost:8080/"
        },
        "id": "au3cfIPyb3d3",
        "outputId": "912c7152-8b55-4d9f-fb1f-aa95552c0f6a"
      },
      "execution_count": 9,
      "outputs": [
        {
          "output_type": "execute_result",
          "data": {
            "text/plain": [
              "36.484487890347154"
            ]
          },
          "metadata": {},
          "execution_count": 9
        }
      ]
    },
    {
      "cell_type": "code",
      "source": [
        ""
      ],
      "metadata": {
        "id": "c9l4wTUMccVV"
      },
      "execution_count": null,
      "outputs": []
    }
  ]
}
