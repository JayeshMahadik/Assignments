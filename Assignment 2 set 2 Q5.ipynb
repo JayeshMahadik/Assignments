{
  "nbformat": 4,
  "nbformat_minor": 0,
  "metadata": {
    "colab": {
      "name": "Untitled57.ipynb",
      "provenance": []
    },
    "kernelspec": {
      "name": "python3",
      "display_name": "Python 3"
    },
    "language_info": {
      "name": "python"
    }
  },
  "cells": [
    {
      "cell_type": "code",
      "execution_count": 1,
      "metadata": {
        "id": "IENcflEDmFoQ"
      },
      "outputs": [],
      "source": [
        "import pandas as pd \n",
        "import numpy as np\n",
        "import scipy.stats as stats"
      ]
    },
    {
      "cell_type": "code",
      "source": [
        "#First calculation general mean values and converting values in dollars and rupees \n",
        "mean1=5\n",
        "mean2=7\n",
        "mean = mean1+mean2\n",
        "print('The mean profit of both the Division in Million$ is ',mean)\n",
        "print('The mean profit of both the division in rupees crores is ',(mean*45)/10)"
      ],
      "metadata": {
        "colab": {
          "base_uri": "https://localhost:8080/"
        },
        "id": "eI4PpEqsmaBD",
        "outputId": "386e9e64-b387-4591-abe0-a4a9f6b4a85d"
      },
      "execution_count": 3,
      "outputs": [
        {
          "output_type": "stream",
          "name": "stdout",
          "text": [
            "The mean profit of both the Division in Million$ is  12\n",
            "The mean profit of both the division in rupees crores is  54.0\n"
          ]
        }
      ]
    },
    {
      "cell_type": "code",
      "source": [
        "#Standard Deviation calculation \n",
        "std1=3*3\n",
        "std2=4*4\n",
        "std=np.sqrt(std1+std2)\n",
        "print('The standard deviation of both the division in Million$ is',std)\n",
        "print('The standard devition of both the division in rupees crores is ',(std*45)/10)"
      ],
      "metadata": {
        "colab": {
          "base_uri": "https://localhost:8080/"
        },
        "id": "7h00REoUnvpL",
        "outputId": "a21ec253-a133-4e8b-eb59-4eeb1df264b3"
      },
      "execution_count": 4,
      "outputs": [
        {
          "output_type": "stream",
          "name": "stdout",
          "text": [
            "The standard deviation of both the division in Million$ is 5.0\n",
            "The standard devition of both the division in rupees crores is  22.5\n"
          ]
        }
      ]
    },
    {
      "cell_type": "code",
      "source": [
        "#A] rupee range that it contains 95 % probability for the annual profit of company\n",
        "r1,r2 = np.round(stats.norm.interval(0.95,mean,std),2)\n",
        "print('rupee ranges from',r1,'to',r2,'Million $ for 95 % probability')\n",
        "print('rupee ranges from',(r1*45)/10,'to',(r2*45)/10,'Crores rupees for 95% probability')"
      ],
      "metadata": {
        "colab": {
          "base_uri": "https://localhost:8080/"
        },
        "id": "NNcy5pnzoo9p",
        "outputId": "1cc590d9-ecd9-49df-86e6-782210e133b1"
      },
      "execution_count": 6,
      "outputs": [
        {
          "output_type": "stream",
          "name": "stdout",
          "text": [
            "rupee ranges from 2.2 to 21.8 Million $ for 95 % probability\n",
            "rupee ranges from 9.900000000000002 to 98.1 Crores rupees for 95% probability\n"
          ]
        }
      ]
    },
    {
      "cell_type": "code",
      "source": [
        "#B] 5 th percentile of profit for company (in rupees)\n",
        "z_5 = stats.norm.ppf(0.05)\n",
        "fifth_percnt = (z_5*std)+mean\n",
        "print('The 5th percentile of profit for the company in crores rupees is',np.round((fifth_percnt*45)/10,2))"
      ],
      "metadata": {
        "colab": {
          "base_uri": "https://localhost:8080/"
        },
        "id": "tzBZHhdMqrEs",
        "outputId": "d05cb704-7d21-4ea6-af84-9d3d9c898c07"
      },
      "execution_count": 8,
      "outputs": [
        {
          "output_type": "stream",
          "name": "stdout",
          "text": [
            "The 5th percentile of profit for the company in crores rupees is 16.99\n"
          ]
        }
      ]
    },
    {
      "cell_type": "code",
      "source": [
        "#c] Comparing two divisions for finding larger probability of making a loss \n",
        "print('The probability of division 1 making a loss is',np.round((stats.norm.cdf(0,5,3))*100,2),'%')\n",
        "print('The probability of division 2 making a loss is',np.round((stats.norm.cdf(0,7,4))*100,2),'%')"
      ],
      "metadata": {
        "colab": {
          "base_uri": "https://localhost:8080/"
        },
        "id": "ldP5qR0-sCHc",
        "outputId": "652f0b6c-4826-4151-d1ca-634581dd360b"
      },
      "execution_count": 9,
      "outputs": [
        {
          "output_type": "stream",
          "name": "stdout",
          "text": [
            "The probability of division 1 making a loss is 4.78 %\n",
            "The probability of division 2 making a loss is 4.01 %\n"
          ]
        }
      ]
    },
    {
      "cell_type": "code",
      "source": [
        "#Therefore division 1 has more probability of making a loss "
      ],
      "metadata": {
        "id": "3CmhqI93txyw"
      },
      "execution_count": null,
      "outputs": []
    }
  ]
}
