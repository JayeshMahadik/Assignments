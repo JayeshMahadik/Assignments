{
  "nbformat": 4,
  "nbformat_minor": 0,
  "metadata": {
    "colab": {
      "name": "Untitled59.ipynb",
      "provenance": []
    },
    "kernelspec": {
      "name": "python3",
      "display_name": "Python 3"
    },
    "language_info": {
      "name": "python"
    }
  },
  "cells": [
    {
      "cell_type": "code",
      "execution_count": 1,
      "metadata": {
        "id": "MiBp5wFIPiVP"
      },
      "outputs": [],
      "source": [
        "import numpy as np\n",
        "import pandas as pd\n",
        "import scipy.stats as stats"
      ]
    },
    {
      "cell_type": "code",
      "source": [
        "#first we neeed to find t value for 5 % probability of investigation \n",
        "std=40\n",
        "t = stats.t.ppf(0.025,df=249)\n",
        "print(\"The t value is \",np.round(t,2))"
      ],
      "metadata": {
        "colab": {
          "base_uri": "https://localhost:8080/"
        },
        "id": "gvYN8kJORO7A",
        "outputId": "ebb24269-6bc1-48b8-b9d7-b4b439ad2614"
      },
      "execution_count": 8,
      "outputs": [
        {
          "output_type": "stream",
          "name": "stdout",
          "text": [
            "The t value is  -1.97\n"
          ]
        }
      ]
    },
    {
      "cell_type": "code",
      "source": [
        "n=((std*abs(t))/(5))**2\n",
        "n"
      ],
      "metadata": {
        "colab": {
          "base_uri": "https://localhost:8080/"
        },
        "id": "wt3lKGZTUrxQ",
        "outputId": "2dad23da-75f8-49b4-fcc0-f65675754954"
      },
      "execution_count": 9,
      "outputs": [
        {
          "output_type": "execute_result",
          "data": {
            "text/plain": [
              "248.26083027145847"
            ]
          },
          "metadata": {},
          "execution_count": 9
        }
      ]
    },
    {
      "cell_type": "code",
      "source": [
        ""
      ],
      "metadata": {
        "id": "vm2fa9UVU-1_"
      },
      "execution_count": null,
      "outputs": []
    }
  ]
}