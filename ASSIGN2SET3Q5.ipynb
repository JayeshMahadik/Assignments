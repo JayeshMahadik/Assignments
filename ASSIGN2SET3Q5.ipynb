{
  "nbformat": 4,
  "nbformat_minor": 0,
  "metadata": {
    "colab": {
      "name": "Untitled58.ipynb",
      "provenance": []
    },
    "kernelspec": {
      "name": "python3",
      "display_name": "Python 3"
    },
    "language_info": {
      "name": "python"
    }
  },
  "cells": [
    {
      "cell_type": "code",
      "execution_count": 1,
      "metadata": {
        "id": "vfv2C-oetK2s"
      },
      "outputs": [],
      "source": [
        "import numpy as np\n",
        "from scipy import stats\n",
        "from scipy.stats import norm"
      ]
    },
    {
      "cell_type": "code",
      "source": [
        "#First We need to define Hypothesis\n",
        "#Null hypothesis >= 5 %\n",
        "#Alternate hypothesis < 5 %"
      ],
      "metadata": {
        "id": "ju2vOn6mtkux"
      },
      "execution_count": 2,
      "outputs": []
    },
    {
      "cell_type": "code",
      "source": [
        "z_value=(0.046-0.05)/(np.sqrt((0.05*(1-0.05))/2000))\n",
        "z_value"
      ],
      "metadata": {
        "colab": {
          "base_uri": "https://localhost:8080/"
        },
        "id": "kgghvNVpuv5I",
        "outputId": "27d0c97e-c70f-4f30-91ff-8329a8c014a8"
      },
      "execution_count": 3,
      "outputs": [
        {
          "output_type": "execute_result",
          "data": {
            "text/plain": [
              "-0.820782681668124"
            ]
          },
          "metadata": {},
          "execution_count": 3
        }
      ]
    },
    {
      "cell_type": "code",
      "source": [
        "#Find probability to compare with 0.05 to check hypothesis \n",
        "p_value=1-stats.norm.cdf(abs(z_value))\n",
        "p_value"
      ],
      "metadata": {
        "colab": {
          "base_uri": "https://localhost:8080/"
        },
        "id": "YvxZB8EWvVo5",
        "outputId": "71fee483-854f-4300-b232-8b5f96bc0f70"
      },
      "execution_count": 4,
      "outputs": [
        {
          "output_type": "execute_result",
          "data": {
            "text/plain": [
              "0.20588503245107104"
            ]
          },
          "metadata": {},
          "execution_count": 4
        }
      ]
    },
    {
      "cell_type": "code",
      "source": [
        "#Therefore p_value is > 0.05 hence failed to reject null hypothesis"
      ],
      "metadata": {
        "id": "Jzg6vfDuwp6Z"
      },
      "execution_count": 5,
      "outputs": []
    },
    {
      "cell_type": "code",
      "source": [
        ""
      ],
      "metadata": {
        "id": "WoPNwEkSxFba"
      },
      "execution_count": null,
      "outputs": []
    }
  ]
}