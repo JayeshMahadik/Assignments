{
  "nbformat": 4,
  "nbformat_minor": 0,
  "metadata": {
    "colab": {
      "name": "Untitled31.ipynb",
      "provenance": []
    },
    "kernelspec": {
      "name": "python3",
      "display_name": "Python 3"
    },
    "language_info": {
      "name": "python"
    }
  },
  "cells": [
    {
      "cell_type": "code",
      "execution_count": 1,
      "metadata": {
        "id": "-wx_M-jnTHGE"
      },
      "outputs": [],
      "source": [
        "from scipy import stats\n",
        "#import the package"
      ]
    },
    {
      "cell_type": "code",
      "source": [
        "#calculate probability with given mean value 45 , standard deviation = 8 and x = 50 as service manager not meeting 1 hour probability we need to count \n",
        "#and car is service after 10 minutes of dropping in service center \n",
        "#P(>50) = 1-stats.norm.cdf(x,loc=mean,scale=std. deviation)\n",
        "1-stats.norm.cdf(50,45,8)"
      ],
      "metadata": {
        "colab": {
          "base_uri": "https://localhost:8080/"
        },
        "id": "F0ITdso5TaHA",
        "outputId": "170178a4-d5e9-4622-b0cd-6b155f1e238d"
      },
      "execution_count": 2,
      "outputs": [
        {
          "output_type": "execute_result",
          "data": {
            "text/plain": [
              "0.26598552904870054"
            ]
          },
          "metadata": {},
          "execution_count": 2
        }
      ]
    },
    {
      "cell_type": "code",
      "source": [
        ""
      ],
      "metadata": {
        "id": "7xxrdy71U1Fh"
      },
      "execution_count": null,
      "outputs": []
    }
  ]
}
